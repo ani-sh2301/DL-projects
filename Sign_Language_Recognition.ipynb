{
  "metadata": {
    "kernelspec": {
      "language": "python",
      "display_name": "Python 3",
      "name": "python3"
    },
    "language_info": {
      "name": "python",
      "version": "3.10.13",
      "mimetype": "text/x-python",
      "codemirror_mode": {
        "name": "ipython",
        "version": 3
      },
      "pygments_lexer": "ipython3",
      "nbconvert_exporter": "python",
      "file_extension": ".py"
    },
    "kaggle": {
      "accelerator": "none",
      "dataSources": [
        {
          "sourceId": 5148069,
          "sourceType": "datasetVersion",
          "datasetId": 2991055
        },
        {
          "sourceId": 7994551,
          "sourceType": "datasetVersion",
          "datasetId": 4706761
        },
        {
          "sourceId": 171850968,
          "sourceType": "kernelVersion"
        }
      ],
      "dockerImageVersionId": 30646,
      "isInternetEnabled": true,
      "language": "python",
      "sourceType": "notebook",
      "isGpuEnabled": false
    },
    "colab": {
      "name": "Sign Language Recognition 9",
      "provenance": [],
      "include_colab_link": true
    }
  },
  "nbformat_minor": 0,
  "nbformat": 4,
  "cells": [
    {
      "cell_type": "markdown",
      "metadata": {
        "id": "view-in-github",
        "colab_type": "text"
      },
      "source": [
        "<a href=\"https://colab.research.google.com/github/ani-sh2301/DL-projects/blob/main/Sign_Language_Recognition.ipynb\" target=\"_parent\"><img src=\"https://colab.research.google.com/assets/colab-badge.svg\" alt=\"Open In Colab\"/></a>"
      ]
    },
    {
      "source": [
        "\n",
        "\n",
        "import os\n",
        "import sys\n",
        "from tempfile import NamedTemporaryFile\n",
        "from urllib.request import urlopen\n",
        "from urllib.parse import unquote, urlparse\n",
        "from urllib.error import HTTPError\n",
        "from zipfile import ZipFile\n",
        "import tarfile\n",
        "import shutil\n",
        "\n",
        "CHUNK_SIZE = 40960\n",
        "DATA_SOURCE_MAPPING = 'include-50:https%3A%2F%2Fstorage.googleapis.com%2Fkaggle-data-sets%2F2991055%2F5148069%2Fbundle%2Farchive.zip%3FX-Goog-Algorithm%3DGOOG4-RSA-SHA256%26X-Goog-Credential%3Dgcp-kaggle-com%2540kaggle-161607.iam.gserviceaccount.com%252F20240529%252Fauto%252Fstorage%252Fgoog4_request%26X-Goog-Date%3D20240529T055615Z%26X-Goog-Expires%3D259200%26X-Goog-SignedHeaders%3Dhost%26X-Goog-Signature%3D2a5805005409c1025e0fa638f33017dd5792d0dbe6c257821b2bb533a9a7bc8cbbe897d6638c017b71cbbf1b8f657ae5a0fc9698d3f62a6cbfe15ecfbd1ae0c807a3f5ebabaa4d85f22390a595742cb49a1a7846ececfaedeb697ed1937ee7857b6801b6f736af9895705f23de90da2597e910f7378bf7a9b7e0484835e2c4ac44b1bfec6d5bb01e921ab2048a8ce4e85efabf4665561e0b3562cae2d8c5e6922acdf097062b739959c9eebd6e59468b21180c1b91f0bff1334871581b5fd442d8ff3da38038abe0cdd0c25623b01ec1df020ca03ed17777e301f10c192af402ccdf2eab47a9e5df42f8bb7a47536a24dc3de0ca9664d4a93c3d629cc0214c6b'\n",
        "\n",
        "KAGGLE_INPUT_PATH='/kaggle/input'\n",
        "KAGGLE_WORKING_PATH='/kaggle/working'\n",
        "KAGGLE_SYMLINK='kaggle'\n",
        "\n",
        "!umount /kaggle/input/ 2> /dev/null\n",
        "shutil.rmtree('/kaggle/input', ignore_errors=True)\n",
        "os.makedirs(KAGGLE_INPUT_PATH, 0o777, exist_ok=True)\n",
        "os.makedirs(KAGGLE_WORKING_PATH, 0o777, exist_ok=True)\n",
        "\n",
        "try:\n",
        "  os.symlink(KAGGLE_INPUT_PATH, os.path.join(\"..\", 'input'), target_is_directory=True)\n",
        "except FileExistsError:\n",
        "  pass\n",
        "try:\n",
        "  os.symlink(KAGGLE_WORKING_PATH, os.path.join(\"..\", 'working'), target_is_directory=True)\n",
        "except FileExistsError:\n",
        "  pass\n",
        "\n",
        "for data_source_mapping in DATA_SOURCE_MAPPING.split(','):\n",
        "    directory, download_url_encoded = data_source_mapping.split(':')\n",
        "    download_url = unquote(download_url_encoded)\n",
        "    filename = urlparse(download_url).path\n",
        "    destination_path = os.path.join(KAGGLE_INPUT_PATH, directory)\n",
        "    try:\n",
        "        with urlopen(download_url) as fileres, NamedTemporaryFile() as tfile:\n",
        "            total_length = fileres.headers['content-length']\n",
        "            print(f'Downloading {directory}, {total_length} bytes compressed')\n",
        "            dl = 0\n",
        "            data = fileres.read(CHUNK_SIZE)\n",
        "            while len(data) > 0:\n",
        "                dl += len(data)\n",
        "                tfile.write(data)\n",
        "                done = int(50 * dl / int(total_length))\n",
        "                sys.stdout.write(f\"\\r[{'=' * done}{' ' * (50-done)}] {dl} bytes downloaded\")\n",
        "                sys.stdout.flush()\n",
        "                data = fileres.read(CHUNK_SIZE)\n",
        "            if filename.endswith('.zip'):\n",
        "              with ZipFile(tfile) as zfile:\n",
        "                zfile.extractall(destination_path)\n",
        "            else:\n",
        "              with tarfile.open(tfile.name) as tarfile:\n",
        "                tarfile.extractall(destination_path)\n",
        "            print(f'\\nDownloaded and uncompressed: {directory}')\n",
        "    except HTTPError as e:\n",
        "        print(f'Failed to load (likely expired) {download_url} to path {destination_path}')\n",
        "        continue\n",
        "    except OSError as e:\n",
        "        print(f'Failed to load {download_url} to path {destination_path}')\n",
        "        continue\n",
        "\n",
        "print('Data source import complete.')\n"
      ],
      "metadata": {
        "id": "r6PYwOxA7fcp"
      },
      "cell_type": "code",
      "outputs": [],
      "execution_count": null
    },
    {
      "cell_type": "code",
      "source": [
        "!pip install --upgrade pip\n",
        "!pip install mediapipe\n",
        "!pip install tensorboard\n",
        "!pip install opencv-python"
      ],
      "metadata": {
        "_kg_hide-output": true,
        "execution": {
          "iopub.status.busy": "2024-04-01T04:31:21.552397Z",
          "iopub.execute_input": "2024-04-01T04:31:21.552784Z",
          "iopub.status.idle": "2024-04-01T04:32:45.511472Z",
          "shell.execute_reply.started": "2024-04-01T04:31:21.552753Z",
          "shell.execute_reply": "2024-04-01T04:32:45.509791Z"
        },
        "trusted": true,
        "id": "ELGpFw2Z7fcs"
      },
      "execution_count": null,
      "outputs": []
    },
    {
      "cell_type": "code",
      "source": [
        "#!apt-get update && apt-get install -y python3-opencv\n",
        "#!pip install opencv-python"
      ],
      "metadata": {
        "execution": {
          "iopub.status.busy": "2024-04-01T04:32:45.514381Z",
          "iopub.execute_input": "2024-04-01T04:32:45.514869Z",
          "iopub.status.idle": "2024-04-01T04:32:45.522947Z",
          "shell.execute_reply.started": "2024-04-01T04:32:45.514825Z",
          "shell.execute_reply": "2024-04-01T04:32:45.520311Z"
        },
        "trusted": true,
        "id": "VsFsrOxq7fcs"
      },
      "execution_count": null,
      "outputs": []
    },
    {
      "cell_type": "code",
      "source": [
        "import matplotlib.pyplot as plt\n",
        "import os\n",
        "import numpy as np\n",
        "import cv2\n",
        "import mediapipe as mp\n",
        "import pandas as pd\n",
        "import random\n",
        "from tqdm import tqdm\n",
        "from zipfile import ZipFile\n",
        "from progressbar import ProgressBar\n",
        "from sklearn.model_selection import train_test_split, GridSearchCV\n",
        "from tensorflow.keras.utils import to_categorical\n",
        "pb=ProgressBar()\n",
        "\n"
      ],
      "metadata": {
        "_uuid": "8f2839f25d086af736a60e9eeb907d3b93b6e0e5",
        "_cell_guid": "b1076dfc-b9ad-4769-8c92-a6c4dae69d19",
        "execution": {
          "iopub.status.busy": "2024-04-01T04:32:45.524495Z",
          "iopub.execute_input": "2024-04-01T04:32:45.525252Z",
          "iopub.status.idle": "2024-04-01T04:33:03.260626Z",
          "shell.execute_reply.started": "2024-04-01T04:32:45.525215Z",
          "shell.execute_reply": "2024-04-01T04:33:03.259594Z"
        },
        "trusted": true,
        "id": "unq3mlAD7fct"
      },
      "execution_count": null,
      "outputs": []
    },
    {
      "cell_type": "code",
      "source": [
        "import tensorflow as tf\n",
        "from keras.applications.vgg16 import VGG16\n",
        "from cv2 import resize\n",
        "from keras.models import Model\n",
        "from keras.applications.vgg16 import preprocess_input\n",
        "\n",
        "from sklearn.decomposition import PCA\n",
        "from sklearn.cluster import KMeans\n",
        "from sklearn.base import BaseEstimator, TransformerMixin\n",
        "import warnings\n",
        "\n",
        "warnings.filterwarnings('ignore')"
      ],
      "metadata": {
        "execution": {
          "iopub.status.busy": "2024-04-01T04:33:03.263029Z",
          "iopub.execute_input": "2024-04-01T04:33:03.264276Z",
          "iopub.status.idle": "2024-04-01T04:33:03.576914Z",
          "shell.execute_reply.started": "2024-04-01T04:33:03.264235Z",
          "shell.execute_reply": "2024-04-01T04:33:03.575561Z"
        },
        "trusted": true,
        "id": "0BDFtnnL7fct"
      },
      "execution_count": null,
      "outputs": []
    },
    {
      "cell_type": "code",
      "source": [],
      "metadata": {
        "trusted": true,
        "id": "pAcyqM7C7fct"
      },
      "execution_count": null,
      "outputs": []
    },
    {
      "cell_type": "code",
      "source": [
        "df=pd.DataFrame(columns=[\"path\",\"label\"])\n",
        "df"
      ],
      "metadata": {
        "execution": {
          "iopub.status.busy": "2024-04-01T04:33:03.578749Z",
          "iopub.execute_input": "2024-04-01T04:33:03.579572Z",
          "iopub.status.idle": "2024-04-01T04:33:03.604298Z",
          "shell.execute_reply.started": "2024-04-01T04:33:03.579528Z",
          "shell.execute_reply": "2024-04-01T04:33:03.602868Z"
        },
        "trusted": true,
        "id": "hTgsNCbV7fcu"
      },
      "execution_count": null,
      "outputs": []
    },
    {
      "cell_type": "code",
      "source": [
        "path='/kaggle/input/include-50'\n",
        "for files in os.listdir(path):\n",
        "    f=os.path.join(path,files)\n",
        "    for labels in os.listdir(f):\n",
        "        c=os.path.join(f,labels)\n",
        "        for clips in os.listdir(c):\n",
        "            if clips.lower()==\"extra\":\n",
        "                ac=os.path.join(c,clips)\n",
        "                for x in os.listdir(ac):\n",
        "                    row={\"path\": os.path.join(ac,x), 'label':(labels.split(\".\")[1]).strip()}\n",
        "                    df.loc[len(df.index)] = row\n",
        "            else:\n",
        "                row={\"path\": os.path.join(c,clips), 'label':(labels.split(\".\")[1]).strip()}\n",
        "                df.loc[len(df.index)] = row\n",
        "\n"
      ],
      "metadata": {
        "execution": {
          "iopub.status.busy": "2024-04-01T04:33:03.605879Z",
          "iopub.execute_input": "2024-04-01T04:33:03.607379Z",
          "iopub.status.idle": "2024-04-01T04:33:04.695693Z",
          "shell.execute_reply.started": "2024-04-01T04:33:03.607344Z",
          "shell.execute_reply": "2024-04-01T04:33:04.694414Z"
        },
        "trusted": true,
        "id": "Ao02lP8N7fcu"
      },
      "execution_count": null,
      "outputs": []
    },
    {
      "cell_type": "code",
      "source": [
        "seed=random.seed(1024)\n",
        "print(random.randint(7,12))\n",
        "shuffle_df=df.sample(frac = 1,random_state=random.randint(7,12), ignore_index=True)"
      ],
      "metadata": {
        "execution": {
          "iopub.status.busy": "2024-04-01T04:33:04.697037Z",
          "iopub.execute_input": "2024-04-01T04:33:04.697442Z",
          "iopub.status.idle": "2024-04-01T04:33:04.710737Z",
          "shell.execute_reply.started": "2024-04-01T04:33:04.69741Z",
          "shell.execute_reply": "2024-04-01T04:33:04.709363Z"
        },
        "trusted": true,
        "id": "5PUNpbtM7fcu"
      },
      "execution_count": null,
      "outputs": []
    },
    {
      "cell_type": "code",
      "source": [
        "df['path'][0]"
      ],
      "metadata": {
        "execution": {
          "iopub.status.busy": "2024-04-01T04:33:04.712602Z",
          "iopub.execute_input": "2024-04-01T04:33:04.713701Z",
          "iopub.status.idle": "2024-04-01T04:33:04.722911Z",
          "shell.execute_reply.started": "2024-04-01T04:33:04.713622Z",
          "shell.execute_reply": "2024-04-01T04:33:04.721693Z"
        },
        "trusted": true,
        "id": "0XxoFvm37fcv"
      },
      "execution_count": null,
      "outputs": []
    },
    {
      "cell_type": "code",
      "source": [
        "shuffle_df.head()"
      ],
      "metadata": {
        "execution": {
          "iopub.status.busy": "2024-04-01T04:33:04.724904Z",
          "iopub.execute_input": "2024-04-01T04:33:04.725796Z",
          "iopub.status.idle": "2024-04-01T04:33:04.74083Z",
          "shell.execute_reply.started": "2024-04-01T04:33:04.725754Z",
          "shell.execute_reply": "2024-04-01T04:33:04.739599Z"
        },
        "trusted": true,
        "id": "RIAxHFnI7fcv"
      },
      "execution_count": null,
      "outputs": []
    },
    {
      "cell_type": "code",
      "source": [],
      "metadata": {
        "trusted": true,
        "id": "Patz2cZu7fcv"
      },
      "execution_count": null,
      "outputs": []
    },
    {
      "cell_type": "code",
      "source": [
        "def drawLandmarks(image, result):\n",
        "    #mp_drawings.draw_landmarks(image, result.face_landmarks, mp_holistic.FACEMESH_CONTOURS,\n",
        "     #                         mp_drawings.DrawingSpec(color=(80,110,10), thickness=1,circle_radius=1),\n",
        "      #                        mp_drawings.DrawingSpec(color=(80,256,121), thickness=1, circle_radius=1)\n",
        "       #                       )\n",
        "    mp_drawings.draw_landmarks(image, result.pose_landmarks, mp_holistic.POSE_CONNECTIONS,\n",
        "                              mp_drawings.DrawingSpec(color=(80,22,10), thickness=1,circle_radius=3),\n",
        "                              mp_drawings.DrawingSpec(color=(80,44,121), thickness=1, circle_radius=2)\n",
        "                              )\n",
        "    mp_drawings.draw_landmarks(image, result.left_hand_landmarks, mp_holistic.HAND_CONNECTIONS,\n",
        "                              mp_drawings.DrawingSpec(color=(80,33,77), thickness=1,circle_radius=3),\n",
        "                              mp_drawings.DrawingSpec(color=(80,44,121), thickness=1, circle_radius=2)\n",
        "                              )\n",
        "    mp_drawings.draw_landmarks(image, result.right_hand_landmarks, mp_holistic.HAND_CONNECTIONS,\n",
        "                              mp_drawings.DrawingSpec(color=(80,117,66), thickness=1,circle_radius=3),\n",
        "                              mp_drawings.DrawingSpec(color=(80,66,239), thickness=1, circle_radius=2)\n",
        "                              )"
      ],
      "metadata": {
        "execution": {
          "iopub.status.busy": "2024-04-01T04:33:04.746504Z",
          "iopub.execute_input": "2024-04-01T04:33:04.746865Z",
          "iopub.status.idle": "2024-04-01T04:33:04.759558Z",
          "shell.execute_reply.started": "2024-04-01T04:33:04.746836Z",
          "shell.execute_reply": "2024-04-01T04:33:04.757962Z"
        },
        "trusted": true,
        "id": "xPIY52X97fcw"
      },
      "execution_count": null,
      "outputs": []
    },
    {
      "cell_type": "code",
      "source": [
        "def detectKeyPoints(image,model):\n",
        "    image=cv2.cvtColor(image, cv2.COLOR_BGR2RGB)\n",
        "    image.flags.writeable=False\n",
        "    results=model.process(image)\n",
        "    image.flags.writeable=True\n",
        "    image=cv2.cvtColor(image, cv2.COLOR_RGB2BGR)\n",
        "\n",
        "    return image,results"
      ],
      "metadata": {
        "execution": {
          "iopub.status.busy": "2024-04-01T04:33:04.761385Z",
          "iopub.execute_input": "2024-04-01T04:33:04.761856Z",
          "iopub.status.idle": "2024-04-01T04:33:04.775989Z",
          "shell.execute_reply.started": "2024-04-01T04:33:04.761813Z",
          "shell.execute_reply": "2024-04-01T04:33:04.774626Z"
        },
        "trusted": true,
        "id": "QrtOjFmm7fcw"
      },
      "execution_count": null,
      "outputs": []
    },
    {
      "cell_type": "code",
      "source": [
        "def fps30(cap):\n",
        "    keypoints=np.array([[0]*258])\n",
        "    #print(cap.get(cv2.CAP_PROP_FRAME_COUNT))\n",
        "    with mp_holistic.Holistic(min_detection_confidence=0.5, min_tracking_confidence=0.5) as holistic:\n",
        "        for frame_idx in range(int(cap.get(cv2.CAP_PROP_FRAME_COUNT))):\n",
        "            #print(frame_idx)\n",
        "            if len(keypoints)>=31: break\n",
        "\n",
        "            ret, frame = cap.read()\n",
        "            image, results=detectKeyPoints(frame[:,500:1500],holistic)\n",
        "            keypoints=np.append(keypoints,[extract_keypoints(results)],axis=0)\n",
        "    return keypoints[1:]"
      ],
      "metadata": {
        "execution": {
          "iopub.status.busy": "2024-04-01T04:33:04.777662Z",
          "iopub.execute_input": "2024-04-01T04:33:04.778143Z",
          "iopub.status.idle": "2024-04-01T04:33:04.789633Z",
          "shell.execute_reply.started": "2024-04-01T04:33:04.778078Z",
          "shell.execute_reply": "2024-04-01T04:33:04.788524Z"
        },
        "trusted": true,
        "id": "T8_BJQS47fcw"
      },
      "execution_count": null,
      "outputs": []
    },
    {
      "cell_type": "code",
      "source": [
        "def fps60(cap):\n",
        "    keypoints=np.array([[0]*258])\n",
        "    #print(cap.get(cv2.CAP_PROP_FRAME_COUNT))\n",
        "    with mp_holistic.Holistic(min_detection_confidence=0.5, min_tracking_confidence=0.5) as holistic:\n",
        "        for frame_idx in range(int(cap.get(cv2.CAP_PROP_FRAME_COUNT))):\n",
        "            #print(frame_idx)\n",
        "            if len(keypoints)>=31: break\n",
        "\n",
        "            if frame_idx%2==0:\n",
        "                ret, frame = cap.read()\n",
        "                image, results=detectKeyPoints(frame[:,500:1500],holistic)\n",
        "                keypoints=np.append(keypoints,[extract_keypoints(results)],axis=0)\n",
        "    return keypoints[1:]"
      ],
      "metadata": {
        "execution": {
          "iopub.status.busy": "2024-04-01T04:33:04.791652Z",
          "iopub.execute_input": "2024-04-01T04:33:04.79213Z",
          "iopub.status.idle": "2024-04-01T04:33:04.806003Z",
          "shell.execute_reply.started": "2024-04-01T04:33:04.792058Z",
          "shell.execute_reply": "2024-04-01T04:33:04.804801Z"
        },
        "trusted": true,
        "id": "Zn5H6_Nw7fcw"
      },
      "execution_count": null,
      "outputs": []
    },
    {
      "cell_type": "code",
      "source": [
        "def fps90(cap):\n",
        "    keypoints=np.array([[0]*258])\n",
        "    #print(cap.get(cv2.CAP_PROP_FRAME_COUNT))\n",
        "    with mp_holistic.Holistic(min_detection_confidence=0.5, min_tracking_confidence=0.5) as holistic:\n",
        "        for frame_idx in range(int(cap.get(cv2.CAP_PROP_FRAME_COUNT))):\n",
        "            #print(frame_idx)\n",
        "            if len(keypoints)>=31: break\n",
        "\n",
        "            if frame_idx%3==0:\n",
        "                ret, frame = cap.read()\n",
        "                image, results=detectKeyPoints(frame[:,500:1500],holistic)\n",
        "                keypoints=np.append(keypoints,[extract_keypoints(results)],axis=0)\n",
        "    return keypoints[1:]"
      ],
      "metadata": {
        "execution": {
          "iopub.status.busy": "2024-04-01T04:33:04.807348Z",
          "iopub.execute_input": "2024-04-01T04:33:04.807684Z",
          "iopub.status.idle": "2024-04-01T04:33:04.820429Z",
          "shell.execute_reply.started": "2024-04-01T04:33:04.807655Z",
          "shell.execute_reply": "2024-04-01T04:33:04.819024Z"
        },
        "trusted": true,
        "id": "SKtU_U_67fcx"
      },
      "execution_count": null,
      "outputs": []
    },
    {
      "cell_type": "code",
      "source": [
        "def fps120(cap):\n",
        "    keypoints=np.array([[0]*258])\n",
        "    #print(cap.get(cv2.CAP_PROP_FRAME_COUNT))\n",
        "    with mp_holistic.Holistic(min_detection_confidence=0.5, min_tracking_confidence=0.5) as holistic:\n",
        "        for frame_idx in range(int(cap.get(cv2.CAP_PROP_FRAME_COUNT))):\n",
        "            #print(frame_idx)\n",
        "            if len(keypoints)>=31: break\n",
        "\n",
        "            if frame_idx%4==0:\n",
        "                ret, frame = cap.read()\n",
        "                image, results=detectKeyPoints(frame[:,500:1500],holistic)\n",
        "                keypoints=np.append(keypoints,[extract_keypoints(results)],axis=0)\n",
        "    return keypoints[1:]"
      ],
      "metadata": {
        "execution": {
          "iopub.status.busy": "2024-04-01T04:33:04.822224Z",
          "iopub.execute_input": "2024-04-01T04:33:04.822568Z",
          "iopub.status.idle": "2024-04-01T04:33:04.835312Z",
          "shell.execute_reply.started": "2024-04-01T04:33:04.82254Z",
          "shell.execute_reply": "2024-04-01T04:33:04.833799Z"
        },
        "trusted": true,
        "id": "KueLj4xW7fcx"
      },
      "execution_count": null,
      "outputs": []
    },
    {
      "cell_type": "code",
      "source": [
        "def fps150(cap):\n",
        "    keypoints=np.array([[0]*258])\n",
        "    #print(cap.get(cv2.CAP_PROP_FRAME_COUNT))\n",
        "    with mp_holistic.Holistic(min_detection_confidence=0.5, min_tracking_confidence=0.5) as holistic:\n",
        "        for frame_idx in range(int(cap.get(cv2.CAP_PROP_FRAME_COUNT))):\n",
        "            #print(frame_idx)\n",
        "            if len(keypoints)>=31: break\n",
        "\n",
        "            if frame_idx%5==0:\n",
        "                ret, frame = cap.read()\n",
        "                image, results=detectKeyPoints(frame[:,500:1500],holistic)\n",
        "                keypoints=np.append(keypoints,[extract_keypoints(results)],axis=0)\n",
        "    return keypoints[1:]\n",
        ""
      ],
      "metadata": {
        "execution": {
          "iopub.status.busy": "2024-04-01T04:33:04.836925Z",
          "iopub.execute_input": "2024-04-01T04:33:04.83743Z",
          "iopub.status.idle": "2024-04-01T04:33:04.854593Z",
          "shell.execute_reply.started": "2024-04-01T04:33:04.837386Z",
          "shell.execute_reply": "2024-04-01T04:33:04.853355Z"
        },
        "trusted": true,
        "id": "zC60EHox7fcx"
      },
      "execution_count": null,
      "outputs": []
    },
    {
      "cell_type": "code",
      "source": [
        "def greaterThan90(cap):\n",
        "    keypoints=np.array([[0]*258])\n",
        "    #print(cap.get(cv2.CAP_PROP_FRAME_COUNT))\n",
        "    frames=[]\n",
        "    while True:\n",
        "        ret, frame=cap.read()\n",
        "        if ret:\n",
        "            frames.append(frame)\n",
        "        else:\n",
        "            break\n",
        "    r=(len(frames)-90)//2\n",
        "    with mp_holistic.Holistic(min_detection_confidence=0.5, min_tracking_confidence=0.5) as holistic:\n",
        "        for frame_idx in range(r,(90+r)) :\n",
        "            #print(frame_idx)\n",
        "            if len(keypoints)>=31: break\n",
        "\n",
        "            if frame_idx%2==0:\n",
        "                #ret, frame = cap.read()\n",
        "                image, results=detectKeyPoints(frames[frame_idx][:,500:1500],holistic)\n",
        "                keypoints=np.append(keypoints,[extract_keypoints(results)],axis=0)\n",
        "    return keypoints[1:]\n",
        ""
      ],
      "metadata": {
        "execution": {
          "iopub.status.busy": "2024-04-01T04:33:04.856549Z",
          "iopub.execute_input": "2024-04-01T04:33:04.856934Z",
          "iopub.status.idle": "2024-04-01T04:33:04.867167Z",
          "shell.execute_reply.started": "2024-04-01T04:33:04.856901Z",
          "shell.execute_reply": "2024-04-01T04:33:04.865963Z"
        },
        "trusted": true,
        "id": "eqzZZExl7fcy"
      },
      "execution_count": null,
      "outputs": []
    },
    {
      "cell_type": "code",
      "source": [
        "def extract_From_KeyFrames(frames):\n",
        "    keypoints=np.array([[0]*258])\n",
        "    #print(cap.get(cv2.CAP_PROP_FRAME_COUNT))\n",
        "    with mp_holistic.Holistic(min_detection_confidence=0.35, min_tracking_confidence=0.5) as holistic:\n",
        "        for frame in frames :\n",
        "                #ret, frame = cap.read()\n",
        "                image, results=detectKeyPoints(frame[:,500:1500],holistic)\n",
        "                keypoints=np.append(keypoints,[extract_keypoints(results)],axis=0)\n",
        "    return keypoints[1:]"
      ],
      "metadata": {
        "execution": {
          "iopub.status.busy": "2024-04-01T04:33:04.868394Z",
          "iopub.execute_input": "2024-04-01T04:33:04.869326Z",
          "iopub.status.idle": "2024-04-01T04:33:04.880929Z",
          "shell.execute_reply.started": "2024-04-01T04:33:04.869291Z",
          "shell.execute_reply": "2024-04-01T04:33:04.879566Z"
        },
        "trusted": true,
        "id": "UC_Ucpga7fcy"
      },
      "execution_count": null,
      "outputs": []
    },
    {
      "cell_type": "code",
      "source": [
        "def preprocess(file_path,model, n_key_frames = 15):\n",
        "\n",
        "    frames = []\n",
        "    cap = cv2.VideoCapture(file_path)\n",
        "\n",
        "    while True:\n",
        "        ret, frame = cap.read()\n",
        "        if ret:\n",
        "            frames.append(frame)\n",
        "        else:\n",
        "            break\n",
        "\n",
        "    features = []\n",
        "    for frame in frames:\n",
        "        frame = resize(frame, (224, 224))\n",
        "        frame = frame.reshape(1, 224, 224, 3)\n",
        "        img= preprocess_input(frame)\n",
        "        feat = model.predict(frame, verbose=0)\n",
        "        features.append(feat)\n",
        "    features = np.array(features)\n",
        "    feats = features.reshape(-1, 4096)\n",
        "    pac_man = PCA(n_components=None, random_state=69)\n",
        "\n",
        "    dfeats = pac_man.fit_transform(feats)\n",
        "\n",
        "    groups = {}\n",
        "    kmeans = KMeans(n_clusters=n_key_frames, random_state = 22)\n",
        "    kmeans.fit(dfeats)\n",
        "\n",
        "    for index, cluster in zip(range(len(dfeats)), kmeans.labels_):\n",
        "        if cluster not in groups.keys():\n",
        "            groups[cluster] = []\n",
        "            groups[cluster].append(index)\n",
        "        else:\n",
        "            groups[cluster].append(index)\n",
        "    key_frames = []\n",
        "\n",
        "    for key, values in groups.items():\n",
        "        key_frames.append(groups[key][0])\n",
        "\n",
        "    final_frames = []\n",
        "    for key in key_frames:\n",
        "        final_frames.append(frames[key])\n",
        "    return final_frames"
      ],
      "metadata": {
        "execution": {
          "iopub.status.busy": "2024-04-01T04:33:04.882463Z",
          "iopub.execute_input": "2024-04-01T04:33:04.88287Z",
          "iopub.status.idle": "2024-04-01T04:33:04.898068Z",
          "shell.execute_reply.started": "2024-04-01T04:33:04.882825Z",
          "shell.execute_reply": "2024-04-01T04:33:04.896873Z"
        },
        "trusted": true,
        "id": "zgTrpxP47fcz"
      },
      "execution_count": null,
      "outputs": []
    },
    {
      "cell_type": "code",
      "source": [
        "def extract_keypoints(results):\n",
        "    pose=np.array([[res.x, res.y, res.z, res.visibility] for res in results.pose_landmarks.landmark]).flatten() if results.pose_landmarks else np.zeros(33*4)\n",
        "    #face=np.array([[res.x, res.y, res.z] for res in results.face_landmarks.landmark]).flatten() if results.face_landmarks else np.zeros(468*3)\n",
        "    rh=np.array([[res.x, res.y, res.z] for res in results.right_hand_landmarks.landmark]).flatten() if results.right_hand_landmarks else np.zeros(21*3)\n",
        "    lh=np.array([[res.x, res.y, res.z] for res in results.left_hand_landmarks.landmark]).flatten() if results.left_hand_landmarks else np.zeros(21*3)\n",
        "\n",
        "    return np.concatenate([pose,lh,rh])"
      ],
      "metadata": {
        "execution": {
          "iopub.status.busy": "2024-04-01T04:33:04.899625Z",
          "iopub.execute_input": "2024-04-01T04:33:04.899967Z",
          "iopub.status.idle": "2024-04-01T04:33:04.911164Z",
          "shell.execute_reply.started": "2024-04-01T04:33:04.899939Z",
          "shell.execute_reply": "2024-04-01T04:33:04.909898Z"
        },
        "trusted": true,
        "id": "aUzNO-RQ7fcz"
      },
      "execution_count": null,
      "outputs": []
    },
    {
      "cell_type": "code",
      "source": [
        "df.head()"
      ],
      "metadata": {
        "execution": {
          "iopub.status.busy": "2024-04-01T04:33:04.913056Z",
          "iopub.execute_input": "2024-04-01T04:33:04.913552Z",
          "iopub.status.idle": "2024-04-01T04:33:04.935805Z",
          "shell.execute_reply.started": "2024-04-01T04:33:04.913484Z",
          "shell.execute_reply": "2024-04-01T04:33:04.934441Z"
        },
        "trusted": true,
        "id": "CzlvbFDh7fcz"
      },
      "execution_count": null,
      "outputs": []
    },
    {
      "cell_type": "code",
      "source": [
        "label_map={label:num for num,label in enumerate(df['label'].unique())}\n",
        "label_map"
      ],
      "metadata": {
        "execution": {
          "iopub.status.busy": "2024-04-01T04:33:04.938001Z",
          "iopub.execute_input": "2024-04-01T04:33:04.939085Z",
          "iopub.status.idle": "2024-04-01T04:33:04.953437Z",
          "shell.execute_reply.started": "2024-04-01T04:33:04.939041Z",
          "shell.execute_reply": "2024-04-01T04:33:04.952188Z"
        },
        "trusted": true,
        "id": "AX_ZuGgY7fc0"
      },
      "execution_count": null,
      "outputs": []
    },
    {
      "cell_type": "code",
      "source": [
        "\n",
        "mp_holistic= mp.solutions.holistic\n",
        "mp_drawings= mp.solutions.drawing_utils\n",
        "kf = VGG16()\n",
        "kf = Model(inputs=kf.inputs, outputs=kf.layers[-2].output)"
      ],
      "metadata": {
        "execution": {
          "iopub.status.busy": "2024-04-01T04:33:04.954931Z",
          "iopub.execute_input": "2024-04-01T04:33:04.955303Z",
          "iopub.status.idle": "2024-04-01T04:33:12.996718Z",
          "shell.execute_reply.started": "2024-04-01T04:33:04.955272Z",
          "shell.execute_reply": "2024-04-01T04:33:12.995363Z"
        },
        "trusted": true,
        "id": "Ar0L2g7D7fc0"
      },
      "execution_count": null,
      "outputs": []
    },
    {
      "cell_type": "code",
      "source": [
        "'''\n",
        "Code to extract and save keyframes as numpy array files\n",
        "\n",
        "\n",
        "pb=ProgressBar()\n",
        "keyframes, label=[],[]\n",
        "count=0\n",
        "for i, row in tqdm(shuffle_df.iterrows()):\n",
        "    keyframes=(preprocess(row[\"path\"], model=kf,n_key_frames=30))\n",
        "    #label.append(label_map[row['label']])\n",
        "    np.save(f\"{count} {row['label']}\",np.array(keyframes)/255)\n",
        "    count+=1\n",
        "\n",
        "'''"
      ],
      "metadata": {
        "execution": {
          "iopub.status.busy": "2024-04-01T04:33:12.998364Z",
          "iopub.execute_input": "2024-04-01T04:33:12.998774Z",
          "iopub.status.idle": "2024-04-01T04:33:13.007911Z",
          "shell.execute_reply.started": "2024-04-01T04:33:12.998741Z",
          "shell.execute_reply": "2024-04-01T04:33:13.006651Z"
        },
        "trusted": true,
        "id": "RHFVqPag7fc0"
      },
      "execution_count": null,
      "outputs": []
    },
    {
      "cell_type": "code",
      "source": [
        "#code to lad Key Frames suing Numpy Array Files\n",
        "\n",
        "\"\"\"\n",
        "keyframes=[]\n",
        "label=[]\n",
        "path='/kaggle/input/include-keyframes'\n",
        "for file in tqdm(os.listdir(path)):\n",
        "    if 'results' in file :\n",
        "        continue\n",
        "    else:\n",
        "        file_path=os.path.join(path,file)\n",
        "        keyframes.append(np.load(file_path))\n",
        "        l=\" \".join(file.split(\" \")[1:]).strip()\n",
        "        label.append(label_map[\"\".join(l.split(\".\")[0].strip())])\n",
        "\n",
        "\"\"\""
      ],
      "metadata": {
        "execution": {
          "iopub.status.busy": "2024-04-01T04:33:13.009252Z",
          "iopub.execute_input": "2024-04-01T04:33:13.009586Z",
          "iopub.status.idle": "2024-04-01T04:33:13.024503Z",
          "shell.execute_reply.started": "2024-04-01T04:33:13.009556Z",
          "shell.execute_reply": "2024-04-01T04:33:13.023199Z"
        },
        "trusted": true,
        "id": "uhxTtmKc7fc0"
      },
      "execution_count": null,
      "outputs": []
    },
    {
      "cell_type": "code",
      "source": [
        "\"\"\"\n",
        "pb=ProgressBar()\n",
        "features=[]\n",
        "for frames in pb(keyframes):\n",
        "    features.append(extract_From_KeyFrames(frames))\n",
        "\n",
        "\n",
        "\"\"\""
      ],
      "metadata": {
        "execution": {
          "iopub.status.busy": "2024-04-01T04:33:13.026349Z",
          "iopub.execute_input": "2024-04-01T04:33:13.026695Z",
          "iopub.status.idle": "2024-04-01T04:33:13.035177Z",
          "shell.execute_reply.started": "2024-04-01T04:33:13.026666Z",
          "shell.execute_reply": "2024-04-01T04:33:13.033671Z"
        },
        "trusted": true,
        "id": "MIhvVq_q7fc0"
      },
      "execution_count": null,
      "outputs": []
    },
    {
      "cell_type": "code",
      "source": [
        "\"\"\"\n",
        "X,y=[],[]\n",
        "for i, row in tqdm(shuffle_df.iterrows()):\n",
        "    keyframes=(preprocess(row[\"path\"], model=kf,n_key_frames=30))\n",
        "    X.append(extract_From_KeyFrames(keyframes))\n",
        "    y.append(label_map[row['label']])\n",
        "\"\"\""
      ],
      "metadata": {
        "execution": {
          "iopub.status.busy": "2024-04-01T04:33:13.037389Z",
          "iopub.execute_input": "2024-04-01T04:33:13.03782Z",
          "iopub.status.idle": "2024-04-01T04:33:13.047734Z",
          "shell.execute_reply.started": "2024-04-01T04:33:13.037787Z",
          "shell.execute_reply": "2024-04-01T04:33:13.046576Z"
        },
        "trusted": true,
        "id": "G3vVFfq17fc0"
      },
      "execution_count": null,
      "outputs": []
    },
    {
      "cell_type": "code",
      "source": [],
      "metadata": {
        "trusted": true,
        "id": "9bi08h7I7fc1"
      },
      "execution_count": null,
      "outputs": []
    },
    {
      "cell_type": "code",
      "source": [
        "#y_cat=to_categorical(y).astype(int)"
      ],
      "metadata": {
        "execution": {
          "iopub.status.busy": "2024-04-01T04:33:13.058013Z",
          "iopub.execute_input": "2024-04-01T04:33:13.058489Z",
          "iopub.status.idle": "2024-04-01T04:33:13.064909Z",
          "shell.execute_reply.started": "2024-04-01T04:33:13.058456Z",
          "shell.execute_reply": "2024-04-01T04:33:13.063616Z"
        },
        "trusted": true,
        "id": "nQAGD6ky7fc1"
      },
      "execution_count": null,
      "outputs": []
    },
    {
      "cell_type": "code",
      "source": [
        "#X_train, X_test, y_train, y_test=train_test_split(X,y_cat, test_size=0.2)"
      ],
      "metadata": {
        "execution": {
          "iopub.status.busy": "2024-04-01T04:33:13.06756Z",
          "iopub.execute_input": "2024-04-01T04:33:13.067982Z",
          "iopub.status.idle": "2024-04-01T04:33:13.076304Z",
          "shell.execute_reply.started": "2024-04-01T04:33:13.067937Z",
          "shell.execute_reply": "2024-04-01T04:33:13.075426Z"
        },
        "trusted": true,
        "id": "uA_SY1SZ7fc1"
      },
      "execution_count": null,
      "outputs": []
    },
    {
      "cell_type": "code",
      "source": [
        "from tensorflow.keras.models import Sequential\n",
        "from tensorflow.keras.layers import Dense, LSTM, Dropout, BatchNormalization\n",
        "from tensorflow.keras.callbacks import TensorBoard\n",
        "import tensorflow as tf\n",
        "tf.random.set_seed(69)"
      ],
      "metadata": {
        "execution": {
          "iopub.status.busy": "2024-04-01T04:33:13.077976Z",
          "iopub.execute_input": "2024-04-01T04:33:13.078452Z",
          "iopub.status.idle": "2024-04-01T04:33:13.094617Z",
          "shell.execute_reply.started": "2024-04-01T04:33:13.078411Z",
          "shell.execute_reply": "2024-04-01T04:33:13.093556Z"
        },
        "trusted": true,
        "id": "d8nx1fr_7fc1"
      },
      "execution_count": null,
      "outputs": []
    },
    {
      "cell_type": "code",
      "source": [
        "tf.config.list_physical_devices('GPU')"
      ],
      "metadata": {
        "execution": {
          "iopub.status.busy": "2024-04-01T04:33:13.09654Z",
          "iopub.execute_input": "2024-04-01T04:33:13.096907Z",
          "iopub.status.idle": "2024-04-01T04:33:13.109512Z",
          "shell.execute_reply.started": "2024-04-01T04:33:13.096877Z",
          "shell.execute_reply": "2024-04-01T04:33:13.108291Z"
        },
        "trusted": true,
        "id": "2sW9YyVO7fc1"
      },
      "execution_count": null,
      "outputs": []
    },
    {
      "cell_type": "code",
      "source": [
        "def plot_history(history):\n",
        "  fig, (ax1, ax2) = plt.subplots(1, 2, figsize=(10, 4))\n",
        "  ax1.plot(history.history['loss'], label='loss')\n",
        "  ax1.plot(history.history['val_loss'], label='val_loss')\n",
        "  ax1.set_xlabel('Epoch')\n",
        "  ax1.set_ylabel('kullback_leibler_divergence')\n",
        "  ax1.grid(True)\n",
        "\n",
        "  ax2.plot(history.history['accuracy'], label='accuracy')\n",
        "  ax2.plot(history.history['val_accuracy'], label='val_accuracy')\n",
        "  ax2.set_xlabel('Epoch')\n",
        "  ax2.set_ylabel('Accuracy')\n",
        "  ax2.grid(True)\n",
        "\n",
        "  plt.show()"
      ],
      "metadata": {
        "execution": {
          "iopub.status.busy": "2024-04-01T04:33:13.11108Z",
          "iopub.execute_input": "2024-04-01T04:33:13.111767Z",
          "iopub.status.idle": "2024-04-01T04:33:13.124345Z",
          "shell.execute_reply.started": "2024-04-01T04:33:13.111733Z",
          "shell.execute_reply": "2024-04-01T04:33:13.123034Z"
        },
        "trusted": true,
        "id": "c7qrWKaq7fc1"
      },
      "execution_count": null,
      "outputs": []
    },
    {
      "cell_type": "code",
      "source": [
        "log_dir=os.path.join('Logs')\n",
        "tb_callback=TensorBoard(log_dir=log_dir)"
      ],
      "metadata": {
        "execution": {
          "iopub.status.busy": "2024-04-01T04:33:13.125949Z",
          "iopub.execute_input": "2024-04-01T04:33:13.12663Z",
          "iopub.status.idle": "2024-04-01T04:33:13.143354Z",
          "shell.execute_reply.started": "2024-04-01T04:33:13.126589Z",
          "shell.execute_reply": "2024-04-01T04:33:13.142393Z"
        },
        "trusted": true,
        "id": "TH_02QLU7fc2"
      },
      "execution_count": null,
      "outputs": []
    },
    {
      "cell_type": "code",
      "source": [
        "def train_model(X_train, y_train, bs, dr, lr, e):\n",
        "    model=Sequential()\n",
        "    model.add(BatchNormalization(input_shape=(30,258)))\n",
        "    model.add(LSTM(64, return_sequences=True, activation='swish'))\n",
        "    model.add(Dropout(dr))\n",
        "    model.add(LSTM(128, return_sequences=True, activation='swish'))\n",
        "    model.add(Dropout(dr))\n",
        "    model.add(LSTM(256, return_sequences=True, activation='swish'))\n",
        "    model.add(Dropout(dr))\n",
        "    model.add(LSTM(512, return_sequences=True, activation='swish'))\n",
        "    model.add(Dropout(dr))\n",
        "    model.add(BatchNormalization())\n",
        "    model.add(LSTM(256, return_sequences=True, activation='swish'))\n",
        "    model.add(Dropout(dr))\n",
        "    model.add(LSTM(128, return_sequences=True, activation='swish'))\n",
        "    model.add(BatchNormalization())\n",
        "    model.add(LSTM(64, return_sequences=True, activation='swish'))\n",
        "    model.add(Dropout(dr))\n",
        "    model.add(LSTM(32, return_sequences=False, activation='swish'))\n",
        "    model.add(BatchNormalization())\n",
        "    model.add(Dense(64, activation='swish'))\n",
        "    model.add(Dropout(dr))\n",
        "    model.add(Dense(128, activation='swish'))\n",
        "    model.add(Dropout(dr))\n",
        "    model.add(Dense(128, activation='swish'))\n",
        "    model.add(Dropout(dr))\n",
        "    model.add(BatchNormalization())\n",
        "    model.add(Dense(64,activation='swish'))\n",
        "    model.add(Dropout(dr))\n",
        "    model.add(Dense(40,activation='softmax'))\n",
        "\n",
        "\n",
        "    model.compile(optimizer=tf.keras.optimizers.Nadam(learning_rate=lr),\n",
        "                                loss='kullback_leibler_divergence',\n",
        "                                metrics=['accuracy'])\n",
        "    history=model.fit(X_train,y_train, epochs=e, validation_split=0.2, batch_size=bs, verbose=0)\n",
        "\n",
        "    return model, history"
      ],
      "metadata": {
        "execution": {
          "iopub.status.busy": "2024-04-01T05:46:09.553748Z",
          "iopub.execute_input": "2024-04-01T05:46:09.554169Z",
          "iopub.status.idle": "2024-04-01T05:46:09.571501Z",
          "shell.execute_reply.started": "2024-04-01T05:46:09.554139Z",
          "shell.execute_reply": "2024-04-01T05:46:09.569877Z"
        },
        "trusted": true,
        "id": "M7wiGUby7fc2"
      },
      "execution_count": null,
      "outputs": []
    },
    {
      "cell_type": "code",
      "source": [
        "#X_train=tf.constant(X_train, dtype='float64')\n",
        "#Y_train=tf.constant(y_train, dtype='int32')\n",
        "#X_test=tf.constant(X_test, dtype='float64')\n",
        "#Y_test=tf.constant(y_test, dtype='int32')"
      ],
      "metadata": {
        "execution": {
          "iopub.status.busy": "2024-04-01T04:33:13.1615Z",
          "iopub.execute_input": "2024-04-01T04:33:13.162054Z",
          "iopub.status.idle": "2024-04-01T04:33:13.175848Z",
          "shell.execute_reply.started": "2024-04-01T04:33:13.16202Z",
          "shell.execute_reply": "2024-04-01T04:33:13.174527Z"
        },
        "trusted": true,
        "id": "U6ws5Y0i7fc2"
      },
      "execution_count": null,
      "outputs": []
    },
    {
      "cell_type": "code",
      "source": [
        "\"\"\"\n",
        "X_train=np.array(X_train)\n",
        "y_train=np.array(y_train)\n",
        "X_test=np.array(X_test)\n",
        "y_test=np.array(y_test)\n",
        "\"\"\""
      ],
      "metadata": {
        "execution": {
          "iopub.status.busy": "2024-04-01T04:33:13.177685Z",
          "iopub.execute_input": "2024-04-01T04:33:13.178163Z",
          "iopub.status.idle": "2024-04-01T04:33:13.190552Z",
          "shell.execute_reply.started": "2024-04-01T04:33:13.17809Z",
          "shell.execute_reply": "2024-04-01T04:33:13.189261Z"
        },
        "trusted": true,
        "id": "ciWvMJ957fc8"
      },
      "execution_count": null,
      "outputs": []
    },
    {
      "cell_type": "code",
      "source": [
        "\"\"\"\n",
        "\n",
        "np.save(\"X_train\",X_train)\n",
        "np.save(\"y_train\",y_train)\n",
        "np.save(\"X_test\",X_test)\n",
        "np.save(\"y_test\",y_test)\n",
        "\n",
        "\"\"\""
      ],
      "metadata": {
        "execution": {
          "iopub.status.busy": "2024-04-01T04:33:13.192164Z",
          "iopub.execute_input": "2024-04-01T04:33:13.192679Z",
          "iopub.status.idle": "2024-04-01T04:33:13.203534Z",
          "shell.execute_reply.started": "2024-04-01T04:33:13.192645Z",
          "shell.execute_reply": "2024-04-01T04:33:13.202343Z"
        },
        "trusted": true,
        "id": "PqFA0_Zz7fc8"
      },
      "execution_count": null,
      "outputs": []
    },
    {
      "cell_type": "code",
      "source": [
        "X_train=np.load('/kaggle/input/train-data-keypoints/X_train.npy')\n",
        "y_train=np.load('/kaggle/input/train-data-keypoints/y_train.npy')\n",
        "X_test=np.load('/kaggle/input/train-data-keypoints/X_test.npy')\n",
        "y_test=np.load('/kaggle/input/train-data-keypoints/y_test.npy')"
      ],
      "metadata": {
        "execution": {
          "iopub.status.busy": "2024-04-01T04:33:13.204909Z",
          "iopub.execute_input": "2024-04-01T04:33:13.205728Z",
          "iopub.status.idle": "2024-04-01T04:33:13.606155Z",
          "shell.execute_reply.started": "2024-04-01T04:33:13.205696Z",
          "shell.execute_reply": "2024-04-01T04:33:13.605202Z"
        },
        "trusted": true,
        "id": "KBm8SlSI7fc9"
      },
      "execution_count": null,
      "outputs": []
    },
    {
      "cell_type": "code",
      "source": [
        "#optimizer = ['SGD', 'RMSprop', 'Adagrad', 'Adadelta', 'Adam', 'Adamax', 'Nadam']\n",
        "batch_size = [15, 20, 32]\n",
        "epochs = [ 100, 150, 200, 300]\n",
        "learn_rate = [0.001, 0.01, 0.1]\n",
        "dropout= [0.0, 0.1, 0.2, 0.3]"
      ],
      "metadata": {
        "execution": {
          "iopub.status.busy": "2024-04-01T04:33:13.607751Z",
          "iopub.execute_input": "2024-04-01T04:33:13.608865Z",
          "iopub.status.idle": "2024-04-01T04:33:13.614648Z",
          "shell.execute_reply.started": "2024-04-01T04:33:13.608824Z",
          "shell.execute_reply": "2024-04-01T04:33:13.613697Z"
        },
        "trusted": true,
        "id": "jgL5Qa1t7fc9"
      },
      "execution_count": null,
      "outputs": []
    },
    {
      "cell_type": "code",
      "source": [
        "\n",
        "all_history=[]\n",
        "least_val_loss = float('inf')\n",
        "least_loss_model = None\n",
        "for bs in batch_size:\n",
        "    for e in epochs:\n",
        "        for lr in learn_rate:\n",
        "            for dr in dropout:\n",
        "                print(f\"LR {lr}, Epochs {e}, Batch Size {bs}, Dropout {dr}\")\n",
        "                model, history = train_model(X_train, y_train, bs, dr, lr, e)\n",
        "                plot_history(history)\n",
        "                val_loss = model.evaluate(X_test, y_test)[0]\n",
        "                if val_loss < least_val_loss:\n",
        "                  least_val_loss = val_loss\n",
        "                  least_loss_model = model\n",
        "                all_history.append(dict(batch_size= bs,\n",
        "                                       epoch=e,\n",
        "                                       learning_rate= lr,\n",
        "                                       #momentum=m,\n",
        "                                       history= history))\n",
        "                #print(\"***************************************************************************\")\n"
      ],
      "metadata": {
        "execution": {
          "iopub.status.busy": "2024-04-01T05:46:35.317085Z",
          "iopub.execute_input": "2024-04-01T05:46:35.317516Z"
        },
        "trusted": true,
        "id": "wDmcA6Ya7fc9"
      },
      "execution_count": null,
      "outputs": []
    },
    {
      "cell_type": "code",
      "source": [
        "\"\"\"\n",
        "Code to clip and normalize loss values\n",
        "\n",
        "temp=np.array(history.history['val_loss'])\n",
        "temp[np.isnan(temp)]=0\n",
        "temp=np.clip(temp,0,20)\n",
        "history.history['val_loss']=temp\n",
        "\n",
        "\"\"\""
      ],
      "metadata": {
        "execution": {
          "iopub.status.busy": "2024-04-01T04:33:13.631222Z",
          "iopub.execute_input": "2024-04-01T04:33:13.631791Z",
          "iopub.status.idle": "2024-04-01T04:33:13.642855Z",
          "shell.execute_reply.started": "2024-04-01T04:33:13.63176Z",
          "shell.execute_reply": "2024-04-01T04:33:13.641657Z"
        },
        "trusted": true,
        "id": "cze0aJqm7fc9"
      },
      "execution_count": null,
      "outputs": []
    },
    {
      "cell_type": "code",
      "source": [
        "model, history = train_model(X_train, y_train, 15, 0.3, 0.001, 150)"
      ],
      "metadata": {
        "execution": {
          "iopub.status.busy": "2024-04-01T04:33:13.644441Z",
          "iopub.execute_input": "2024-04-01T04:33:13.645044Z",
          "iopub.status.idle": "2024-04-01T05:06:57.16334Z",
          "shell.execute_reply.started": "2024-04-01T04:33:13.645014Z",
          "shell.execute_reply": "2024-04-01T05:06:57.161961Z"
        },
        "trusted": true,
        "id": "0XTl4clk7fc-"
      },
      "execution_count": null,
      "outputs": []
    },
    {
      "cell_type": "code",
      "source": [
        "plot_history(history)"
      ],
      "metadata": {
        "execution": {
          "iopub.status.busy": "2024-04-01T05:06:57.165704Z",
          "iopub.execute_input": "2024-04-01T05:06:57.168558Z",
          "iopub.status.idle": "2024-04-01T05:06:57.612519Z",
          "shell.execute_reply.started": "2024-04-01T05:06:57.168505Z",
          "shell.execute_reply": "2024-04-01T05:06:57.61155Z"
        },
        "trusted": true,
        "id": "5fMfMJsR7fc-"
      },
      "execution_count": null,
      "outputs": []
    },
    {
      "cell_type": "code",
      "source": [
        "model.evaluate(X_test, y_test)"
      ],
      "metadata": {
        "execution": {
          "iopub.status.busy": "2024-04-01T05:06:57.613871Z",
          "iopub.execute_input": "2024-04-01T05:06:57.614901Z",
          "iopub.status.idle": "2024-04-01T05:06:58.977864Z",
          "shell.execute_reply.started": "2024-04-01T05:06:57.614865Z",
          "shell.execute_reply": "2024-04-01T05:06:58.97647Z"
        },
        "trusted": true,
        "id": "Ot_qA0CJ7fc-"
      },
      "execution_count": null,
      "outputs": []
    },
    {
      "cell_type": "code",
      "source": [
        "import pickle\n",
        "pickle.dump(model,open(\"beta_model.sav\",\"wb\"))"
      ],
      "metadata": {
        "execution": {
          "iopub.status.busy": "2024-04-01T05:45:56.876995Z",
          "iopub.execute_input": "2024-04-01T05:45:56.877708Z",
          "iopub.status.idle": "2024-04-01T05:45:57.250871Z",
          "shell.execute_reply.started": "2024-04-01T05:45:56.877673Z",
          "shell.execute_reply": "2024-04-01T05:45:57.249583Z"
        },
        "trusted": true,
        "id": "JfomYMA67fc-"
      },
      "execution_count": null,
      "outputs": []
    },
    {
      "cell_type": "code",
      "source": [
        "import torch\n",
        "torch.save(model,\"beta_model\")"
      ],
      "metadata": {
        "execution": {
          "iopub.status.busy": "2024-04-01T05:45:51.308264Z",
          "iopub.execute_input": "2024-04-01T05:45:51.308754Z",
          "iopub.status.idle": "2024-04-01T05:45:56.396519Z",
          "shell.execute_reply.started": "2024-04-01T05:45:51.308718Z",
          "shell.execute_reply": "2024-04-01T05:45:56.395175Z"
        },
        "trusted": true,
        "id": "jctdF6cw7fc-"
      },
      "execution_count": null,
      "outputs": []
    },
    {
      "cell_type": "code",
      "source": [
        "#res=least_loss_model.predict(X_test)"
      ],
      "metadata": {
        "execution": {
          "iopub.status.busy": "2024-04-01T05:06:59.004259Z",
          "iopub.execute_input": "2024-04-01T05:06:59.005196Z",
          "iopub.status.idle": "2024-04-01T05:06:59.013888Z",
          "shell.execute_reply.started": "2024-04-01T05:06:59.005151Z",
          "shell.execute_reply": "2024-04-01T05:06:59.01274Z"
        },
        "trusted": true,
        "id": "cXS_EaiL7fc_"
      },
      "execution_count": null,
      "outputs": []
    },
    {
      "cell_type": "code",
      "source": [
        "#np.argmax(res[0])"
      ],
      "metadata": {
        "execution": {
          "iopub.status.busy": "2024-04-01T05:06:59.015956Z",
          "iopub.execute_input": "2024-04-01T05:06:59.016818Z",
          "iopub.status.idle": "2024-04-01T05:06:59.0255Z",
          "shell.execute_reply.started": "2024-04-01T05:06:59.016772Z",
          "shell.execute_reply": "2024-04-01T05:06:59.024176Z"
        },
        "trusted": true,
        "id": "5dGVnyHq7fc_"
      },
      "execution_count": null,
      "outputs": []
    },
    {
      "cell_type": "code",
      "source": [
        "#decode=list(label_map.keys())"
      ],
      "metadata": {
        "execution": {
          "iopub.status.busy": "2024-04-01T05:06:59.027467Z",
          "iopub.execute_input": "2024-04-01T05:06:59.027891Z",
          "iopub.status.idle": "2024-04-01T05:06:59.042663Z",
          "shell.execute_reply.started": "2024-04-01T05:06:59.027857Z",
          "shell.execute_reply": "2024-04-01T05:06:59.041541Z"
        },
        "trusted": true,
        "id": "wkjq2fxd7fc_"
      },
      "execution_count": null,
      "outputs": []
    },
    {
      "cell_type": "code",
      "source": [
        "#print(decode[np.argmax(res[2])])\n",
        "#print(decode[np.argmax(y_test[2])])"
      ],
      "metadata": {
        "execution": {
          "iopub.status.busy": "2024-04-01T05:06:59.044473Z",
          "iopub.execute_input": "2024-04-01T05:06:59.045639Z",
          "iopub.status.idle": "2024-04-01T05:06:59.054739Z",
          "shell.execute_reply.started": "2024-04-01T05:06:59.045597Z",
          "shell.execute_reply": "2024-04-01T05:06:59.053466Z"
        },
        "trusted": true,
        "id": "8aSH7-PA7fc_"
      },
      "execution_count": null,
      "outputs": []
    },
    {
      "cell_type": "code",
      "source": [
        "#from sklearn.metrics import multilabel_confusion_matrix, accuracy_score\n",
        "#ypred=np.argmax(res, axis=1).tolist()\n",
        "#ytrue=np.argmax(y_test, axis=1).tolist()"
      ],
      "metadata": {
        "execution": {
          "iopub.status.busy": "2024-04-01T05:06:59.056793Z",
          "iopub.execute_input": "2024-04-01T05:06:59.057619Z",
          "iopub.status.idle": "2024-04-01T05:06:59.067226Z",
          "shell.execute_reply.started": "2024-04-01T05:06:59.057578Z",
          "shell.execute_reply": "2024-04-01T05:06:59.066124Z"
        },
        "trusted": true,
        "id": "5DG1Pd4j7fc_"
      },
      "execution_count": null,
      "outputs": []
    },
    {
      "cell_type": "code",
      "source": [
        "#print(ypred, ytrue)"
      ],
      "metadata": {
        "execution": {
          "iopub.status.busy": "2024-04-01T05:06:59.069208Z",
          "iopub.execute_input": "2024-04-01T05:06:59.070083Z",
          "iopub.status.idle": "2024-04-01T05:06:59.081866Z",
          "shell.execute_reply.started": "2024-04-01T05:06:59.070041Z",
          "shell.execute_reply": "2024-04-01T05:06:59.080249Z"
        },
        "trusted": true,
        "id": "DWzyUQnn7fdA"
      },
      "execution_count": null,
      "outputs": []
    },
    {
      "cell_type": "code",
      "source": [
        "#multilabel_confusion_matrix(ytrue, ypred)"
      ],
      "metadata": {
        "execution": {
          "iopub.status.busy": "2024-04-01T05:06:59.083864Z",
          "iopub.execute_input": "2024-04-01T05:06:59.084612Z",
          "iopub.status.idle": "2024-04-01T05:06:59.094523Z",
          "shell.execute_reply.started": "2024-04-01T05:06:59.084567Z",
          "shell.execute_reply": "2024-04-01T05:06:59.093166Z"
        },
        "trusted": true,
        "id": "ZQLqfLaQ7fdA"
      },
      "execution_count": null,
      "outputs": []
    },
    {
      "cell_type": "code",
      "source": [
        "#accuracy_score(ytrue, ypred)"
      ],
      "metadata": {
        "execution": {
          "iopub.status.busy": "2024-04-01T05:06:59.09617Z",
          "iopub.execute_input": "2024-04-01T05:06:59.096603Z",
          "iopub.status.idle": "2024-04-01T05:06:59.108036Z",
          "shell.execute_reply.started": "2024-04-01T05:06:59.096568Z",
          "shell.execute_reply": "2024-04-01T05:06:59.106978Z"
        },
        "trusted": true,
        "id": "A9fPiM127fdA"
      },
      "execution_count": null,
      "outputs": []
    },
    {
      "cell_type": "code",
      "source": [
        "#keyframes=np.load('/kaggle/input/include-keyframes-2/0 How are you.npy')"
      ],
      "metadata": {
        "execution": {
          "iopub.status.busy": "2024-04-01T05:06:59.111425Z",
          "iopub.execute_input": "2024-04-01T05:06:59.112493Z",
          "iopub.status.idle": "2024-04-01T05:06:59.119512Z",
          "shell.execute_reply.started": "2024-04-01T05:06:59.112455Z",
          "shell.execute_reply": "2024-04-01T05:06:59.118388Z"
        },
        "trusted": true,
        "id": "97XcWLBx7fdA"
      },
      "execution_count": null,
      "outputs": []
    },
    {
      "cell_type": "code",
      "source": [
        "#kf=(keyframes*255).astype(int)\n",
        "#kf.shape\n",
        "#detectKeyPoints(kf[:,500:1500],holistic)"
      ],
      "metadata": {
        "execution": {
          "iopub.status.busy": "2024-04-01T05:06:59.121131Z",
          "iopub.execute_input": "2024-04-01T05:06:59.122084Z",
          "iopub.status.idle": "2024-04-01T05:06:59.131822Z",
          "shell.execute_reply.started": "2024-04-01T05:06:59.122049Z",
          "shell.execute_reply": "2024-04-01T05:06:59.130782Z"
        },
        "trusted": true,
        "id": "FhRe4Mp07fdA"
      },
      "execution_count": null,
      "outputs": []
    },
    {
      "cell_type": "code",
      "source": [
        "#kf.shape"
      ],
      "metadata": {
        "execution": {
          "iopub.status.busy": "2024-04-01T05:06:59.133442Z",
          "iopub.execute_input": "2024-04-01T05:06:59.134163Z",
          "iopub.status.idle": "2024-04-01T05:06:59.14341Z",
          "shell.execute_reply.started": "2024-04-01T05:06:59.134117Z",
          "shell.execute_reply": "2024-04-01T05:06:59.142423Z"
        },
        "trusted": true,
        "id": "3Q-_gOTF7fdB"
      },
      "execution_count": null,
      "outputs": []
    },
    {
      "cell_type": "code",
      "source": [
        "\"\"\"\n",
        "code to plot keyframes along with Keypoints\n",
        "\n",
        "fig_rows = 10\n",
        "fig_cols = 2\n",
        "n_subplots = fig_rows * fig_cols\n",
        "plot_range = n_subplots\n",
        "start_stop = 0\n",
        "\n",
        "fig, axs = plt.subplots(fig_rows, fig_cols, figsize=[50, 100])\n",
        "\n",
        "with mp_holistic.Holistic(min_detection_confidence=0.35, min_tracking_confidence=0.3) as holistic:\n",
        "    for idx, img in enumerate(range(start_stop, plot_range)):\n",
        "        image, results=detectKeyPoints(kf[idx][:,500:1500],holistic)\n",
        "        drawLandmarks(image, results)\n",
        "        axs.flat[idx].imshow(cv2.cvtColor(image, cv2.COLOR_BGR2RGB))\n",
        "        axs.flat[idx].axis('off')\n",
        "        axs.flat[idx].set_title(decode[label[0]])\n",
        "\n",
        "plt.tight_layout()\n",
        "plt.show()\n",
        "\n",
        "\"\"\""
      ],
      "metadata": {
        "execution": {
          "iopub.status.busy": "2024-04-01T05:06:59.144899Z",
          "iopub.execute_input": "2024-04-01T05:06:59.145936Z",
          "iopub.status.idle": "2024-04-01T05:06:59.158204Z",
          "shell.execute_reply.started": "2024-04-01T05:06:59.145894Z",
          "shell.execute_reply": "2024-04-01T05:06:59.156786Z"
        },
        "trusted": true,
        "id": "KQ50jFYP7fdB"
      },
      "execution_count": null,
      "outputs": []
    },
    {
      "cell_type": "code",
      "source": [],
      "metadata": {
        "id": "xolAyBhH7fdB"
      },
      "execution_count": null,
      "outputs": []
    }
  ]
}